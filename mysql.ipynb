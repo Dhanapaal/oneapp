{
 "metadata": {
  "kernelspec": {
   "display_name": "Python 3",
   "language": "python",
   "name": "python3"
  },
  "language_info": {
   "codemirror_mode": {
    "name": "ipython",
    "version": 3
   },
   "file_extension": ".py",
   "mimetype": "text/x-python",
   "name": "python",
   "nbconvert_exporter": "python",
   "pygments_lexer": "ipython3",
   "version": "3.8.10"
  },
  "lastEditStatus": {
   "notebookId": "k3467sahqpymsqumdmec",
   "authorId": "7011803993425",
   "authorName": "DHANAPALSONATA",
   "authorEmail": "dperiasamy@sonata-software.com",
   "sessionId": "23c25874-d964-40e8-8ab0-6c579f12624a",
   "lastEditTime": 1739677371910
  }
 },
 "nbformat_minor": 5,
 "nbformat": 4,
 "cells": [
  {
   "cell_type": "code",
   "execution_count": null,
   "metadata": {
    "name": "cell1",
    "language": "python"
   },
   "outputs": [],
   "source": [
    "print(\"Hello World\")\n"
   ],
   "id": "ce110000-1111-2222-3333-ffffff000000"
  },
  {
   "cell_type": "code",
   "id": "c99503a0-e19b-4db1-8396-90787c10b6d3",
   "metadata": {
    "language": "sql",
    "name": "cell2"
   },
   "outputs": [],
   "source": "select * from pharma.public.wholesaler_quote_analysis;",
   "execution_count": null
  }
 ]
}